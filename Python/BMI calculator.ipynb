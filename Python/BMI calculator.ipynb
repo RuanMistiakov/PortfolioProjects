{
 "cells": [
  {
   "cell_type": "code",
   "execution_count": 11,
   "id": "b580982c",
   "metadata": {},
   "outputs": [
    {
     "name": "stdout",
     "output_type": "stream",
     "text": [
      "Enter your name: Ruan\n",
      "Enter your weight in kg: 70\n",
      "Enter your height in cm: 170\n",
      "Your BMI is 24.2.\n",
      "Ruan, you are normal weight.\n"
     ]
    }
   ],
   "source": [
    "name = input('Enter your name: ')\n",
    "weight = input('Enter your weight in kg: ')\n",
    "height = input('Enter your height in cm: ')\n",
    "bmi = 10000 * int(weight) / (int(height) * int(height))\n",
    "print('Your BMI is {}.'.format(round(bmi, 1)))\n",
    "if bmi <= 0:\n",
    "    print('Enter valid numbers.')\n",
    "elif bmi < 18.5:\n",
    "    print(name + ', you are underweight.')\n",
    "elif bmi < 25:\n",
    "    print(name + ', you are normal weight.')\n",
    "elif bmi < 30:\n",
    "    print(name + ', you are overweight.')\n",
    "elif bmi < 35:\n",
    "    print(name + ', you are obese.')\n",
    "elif bmi < 40:\n",
    "    print(name + ', you are severely obese.')\n",
    "elif bmi > 40:\n",
    "    print(name + ', you are morbidly obese.')"
   ]
  }
 ],
 "metadata": {
  "kernelspec": {
   "display_name": "Python 3 (ipykernel)",
   "language": "python",
   "name": "python3"
  },
  "language_info": {
   "codemirror_mode": {
    "name": "ipython",
    "version": 3
   },
   "file_extension": ".py",
   "mimetype": "text/x-python",
   "name": "python",
   "nbconvert_exporter": "python",
   "pygments_lexer": "ipython3",
   "version": "3.9.7"
  }
 },
 "nbformat": 4,
 "nbformat_minor": 5
}
