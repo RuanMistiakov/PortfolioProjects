{
 "cells": [
  {
   "cell_type": "markdown",
   "id": "b9a6084e",
   "metadata": {},
   "source": [
    "# Automatic File Sorter in File Explorer"
   ]
  },
  {
   "cell_type": "code",
   "execution_count": null,
   "id": "8158c5cd",
   "metadata": {},
   "outputs": [],
   "source": [
    "# moves xls, csv, jpg, png, txt and other files in corresponding folder"
   ]
  },
  {
   "cell_type": "code",
   "execution_count": 34,
   "id": "2e6ad731",
   "metadata": {},
   "outputs": [
    {
     "name": "stdout",
     "output_type": "stream",
     "text": [
      "Please enter your path: C:\\Users\\r.mistyakov\\PycharmProjects\\edProj\\Data Analyst Bootcamp\\files to sort_bak — копия\n"
     ]
    }
   ],
   "source": [
    "import os, shutil\n",
    "\n",
    "path = input('Please enter your path: ')\n",
    "path = path + '/'\n",
    "file_name = os.listdir(path)\n",
    "folder_names = ['Excel files', 'Image files', 'Text files', 'Other']\n",
    "\n",
    "for loop in range(len(folder_names)):\n",
    "    if not os.path.exists(path + folder_names[loop]):\n",
    "        os.makedirs(path + folder_names[loop])\n",
    "        \n",
    "for file in file_name:\n",
    "    if \".csv\" in file and not os.path.exists(path + 'Excel files/' + file):\n",
    "        shutil.move(path + file, path + 'Excel files/' + file)\n",
    "    elif \".xls\" in file and not os.path.exists(path + 'Excel files/' + file):\n",
    "        shutil.move(path + file, path + 'Excel files/' + file)\n",
    "    elif \".jpg\" in file and not os.path.exists(path + 'Image files/' + file):\n",
    "        shutil.move(path + file, path + 'Image files/' + file)\n",
    "    elif \".png\" in file and not os.path.exists(path + 'Image files/' + file):\n",
    "        shutil.move(path + file, path + 'Image files/' + file)\n",
    "    elif \".txt\" in file and not os.path.exists(path + 'Text files/' + file):\n",
    "        shutil.move(path + file, path + 'Text files/' + file)\n",
    "    elif \".\" in file:\n",
    "        shutil.move(path + file, path + 'Other/' + file)"
   ]
  },
  {
   "cell_type": "code",
   "execution_count": 33,
   "id": "e74b457f",
   "metadata": {},
   "outputs": [],
   "source": []
  },
  {
   "cell_type": "code",
   "execution_count": null,
   "id": "5f9d4943",
   "metadata": {},
   "outputs": [],
   "source": []
  }
 ],
 "metadata": {
  "kernelspec": {
   "display_name": "Python 3 (ipykernel)",
   "language": "python",
   "name": "python3"
  },
  "language_info": {
   "codemirror_mode": {
    "name": "ipython",
    "version": 3
   },
   "file_extension": ".py",
   "mimetype": "text/x-python",
   "name": "python",
   "nbconvert_exporter": "python",
   "pygments_lexer": "ipython3",
   "version": "3.9.7"
  }
 },
 "nbformat": 4,
 "nbformat_minor": 5
}
